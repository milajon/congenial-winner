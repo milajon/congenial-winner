{
  "nbformat": 4,
  "nbformat_minor": 0,
  "metadata": {
    "colab": {
      "name": "Guess The Number *Completed*",
      "provenance": [],
      "authorship_tag": "ABX9TyPQIhYhsav3YDNkyi55R4HM",
      "include_colab_link": true
    },
    "kernelspec": {
      "name": "python3",
      "display_name": "Python 3"
    },
    "language_info": {
      "name": "python"
    }
  },
  "cells": [
    {
      "cell_type": "markdown",
      "metadata": {
        "id": "view-in-github",
        "colab_type": "text"
      },
      "source": [
        "<a href=\"https://colab.research.google.com/github/milajon/congenial-winner/blob/main/Guess_The_Number_.ipynb\" target=\"_parent\"><img src=\"https://colab.research.google.com/assets/colab-badge.svg\" alt=\"Open In Colab\"/></a>"
      ]
    },
    {
      "cell_type": "code",
      "metadata": {
        "id": "bNBMNIYXsSoY",
        "colab": {
          "base_uri": "https://localhost:8080/"
        },
        "outputId": "94594b76-a500-4849-85a1-37b2de993a72"
      },
      "source": [
        "# This is a guessing game\n",
        "\n",
        "import sys, random\n",
        "\n",
        "guessesTaken = 0\n",
        "\n",
        "input(\"\\nPress Enter to start.\")\n",
        "\n",
        "print(\"Hello! What is your name?\")\n",
        "myName = input()\n",
        "\n",
        "number = random.randint(1, 50)\n",
        "print(\"Welcome \" + myName + \", I am thinking of a number between 1 and 50.\")\n",
        "\n",
        "for guessesTaken in range(6):\n",
        "  print(\"Take a guess.\")\n",
        "  guess = input()\n",
        "  guess = int(guess)\n",
        "\n",
        "  if guess < number:\n",
        "    print(\"Your guess is too low\")\n",
        "\n",
        "  if guess > number:\n",
        "    print(\"Your guess is too high\")\n",
        "\n",
        "  if guess == number:\n",
        "    break\n",
        "\n",
        "if guess == number: \n",
        "  guessesTaken = str(guessesTaken + 1)\n",
        "  print(\"Congrats \" + myName + \", you guessed my number in \" + guessesTaken + \" guesses!\")\n",
        "\n",
        "if guess != number:\n",
        "  number = str(number)\n",
        "  print(\"Nope. The number I was thinking of was \" + number + \".\")\n",
        "\n",
        "else: \n",
        "  input(\"Press Enter to Exit\")\n",
        "\n"
      ],
      "execution_count": 27,
      "outputs": [
        {
          "name": "stdout",
          "output_type": "stream",
          "text": [
            "\n",
            "Press Enter to start.\n",
            "Hello! What is your name?\n",
            "Mia\n",
            "Welcome Mia, I am thinking of a number between 1 and 50.\n",
            "Take a guess.\n",
            "34\n",
            "Your guess is too high\n",
            "Take a guess.\n",
            "25\n",
            "Your guess is too high\n",
            "Take a guess.\n",
            "13\n",
            "Your guess is too high\n",
            "Take a guess.\n",
            "7\n",
            "Your guess is too high\n",
            "Take a guess.\n",
            "6\n",
            "Congrats Mia, you guessed my number in 5 guesses!\n",
            "Pess Enter to Exit\n"
          ]
        }
      ]
    }
  ]
}